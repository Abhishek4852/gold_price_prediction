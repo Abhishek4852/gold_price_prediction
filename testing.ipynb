{
 "cells": [
  {
   "cell_type": "code",
   "execution_count": 2,
   "id": "a50881bb-1eaa-4c6e-9ae8-26c88d0525ef",
   "metadata": {},
   "outputs": [],
   "source": [
    "import predict_gold_price\n"
   ]
  },
  {
   "cell_type": "code",
   "execution_count": null,
   "id": "6c32c82c-684e-421a-8fd7-8a7d6e3b9c28",
   "metadata": {},
   "outputs": [],
   "source": []
  }
 ],
 "metadata": {
  "kernelspec": {
   "display_name": "Python 3 (ipykernel)",
   "language": "python",
   "name": "python3"
  },
  "language_info": {
   "codemirror_mode": {
    "name": "ipython",
    "version": 3
   },
   "file_extension": ".py",
   "mimetype": "text/x-python",
   "name": "python",
   "nbconvert_exporter": "python",
   "pygments_lexer": "ipython3",
   "version": "3.13.2"
  }
 },
 "nbformat": 4,
 "nbformat_minor": 5
}
